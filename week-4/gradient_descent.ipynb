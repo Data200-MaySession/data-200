{
 "cells": [
  {
   "cell_type": "markdown",
   "id": "c6d261d6",
   "metadata": {},
   "source": [
    "# **Gradient Descent Method**\n",
    "\n",
    "&copy; 2025, Aayush Raj Regmi"
   ]
  },
  {
   "cell_type": "markdown",
   "id": "4e8e1e87",
   "metadata": {},
   "source": [
    "- **Gradient descent** is an optimization algorithm used to minimize a function by iteratively moving towards the steepest direction. \n",
    "\n",
    "- It is widely used in machine learning and deep learning for training models."
   ]
  },
  {
   "cell_type": "markdown",
   "id": "2256e51c",
   "metadata": {},
   "source": [
    "## Optimization Algorithm We Learn't so far"
   ]
  },
  {
   "cell_type": "markdown",
   "id": "ea7983b4",
   "metadata": {},
   "source": [
    "- **Ordinary Least Squares (OLS)**\n",
    "\n",
    "**Question:**\n",
    "1. What is the main goal of OLS?\n",
    "\n",
    "2. What does it minimize?\n",
    "\n",
    "3. How does it work?"
   ]
  },
  {
   "cell_type": "markdown",
   "id": "255051a8",
   "metadata": {},
   "source": [
    "## **Question:**\n",
    "\n",
    "#### How many iterations does OLS require to converge?"
   ]
  },
  {
   "cell_type": "markdown",
   "id": "a0a027b2",
   "metadata": {},
   "source": [
    "## Gradient Descent Algorithm"
   ]
  },
  {
   "cell_type": "markdown",
   "id": "db34c670",
   "metadata": {},
   "source": [
    "### Why use Gradient Descent if we have OLS?\n",
    "\n",
    "- Remember if you put in the values of $X$ and $y$ in the normal equation and perform some finite number of operations, you will get the optimal values of the parameters **in a single iteration**.\n",
    "\n",
    "- **OLS is an non-iterative** approach for optimization\n",
    "\n",
    "- The inverse operation, $(X^TX)^{-1}$ is computationally very expensive\n",
    "\n",
    "- The time complexity of this operation increases significantly with the increase in number of features. \n",
    "\n",
    "- So for a large dataset with a large number of features, OLS becomes computationally expensive and infeasible.\n",
    "\n",
    "### But how does **Gradient Descent** Work?\n"
   ]
  },
  {
   "cell_type": "markdown",
   "id": "ed639767",
   "metadata": {},
   "source": [
    "Step 1: Initialize the value of ${x}$ randomly\n",
    "\n",
    "Step 2: Calculate the gradient of $f({x})$ with respect to ${x}$ ie.  $\\frac{\\partial\\ f({x})}{\\partial\\ {x}}$\n",
    "\n",
    "Step 3: Update ${x}$ as:\n",
    "\n",
    "$${x} := {x} - \\alpha \\frac{\\partial\\ f({x})}{\\partial\\ {x}}$$\n",
    "\n",
    "$\\hspace{1cm}$ where, $\\alpha$ is the **learning rate** and '$:=$' is assignment operator \n",
    "\n",
    "\n",
    "Step 4: Repeat steps 1, 2 and 3 until the value of $f({x})$ converges to the minimum value.\n",
    "\n",
    "\n",
    "As the function approaches the minimum point, its gradient approaches zero and so the updates don't change $x$ much. At the minimum point of the function,  $\\frac{\\partial\\ f({x})}{\\partial\\ {x}}\\cong0$ and the solution converges at that point after certain number of iterations."
   ]
  },
  {
   "cell_type": "code",
   "execution_count": 1,
   "id": "9e40ffeb",
   "metadata": {},
   "outputs": [],
   "source": [
    "import matplotlib.pyplot as plt\n",
    "import plotly.express as px\n",
    "\n",
    "plt.style.use('seaborn-v0_8')  # Use a valid style\n"
   ]
  },
  {
   "cell_type": "code",
   "execution_count": 5,
   "id": "bdb7d788",
   "metadata": {},
   "outputs": [],
   "source": [
    "history = dict()\n",
    "\n",
    "\n",
    "def gradient_descent(\n",
    "    f, df, x0, learning_rate=0.01, tolerance=1e-6, max_iterations=1000\n",
    "):\n",
    "    \"\"\"\n",
    "    Perform gradient descent to minimize the function f.\n",
    "\n",
    "    Parameters:\n",
    "    - f: The function to minimize.\n",
    "    - df: The derivative of the function f.\n",
    "    - x0: Initial guess for the minimum.\n",
    "    - learning_rate: Step size for each iteration.\n",
    "    - tolerance: Threshold for convergence.\n",
    "    - max_iterations: Maximum number of iterations.\n",
    "\n",
    "    Returns:\n",
    "    - x: The estimated minimum point.\n",
    "    \"\"\"\n",
    "    x = x0\n",
    "    history[\"x\"] = [x0]\n",
    "    history[\"iterations\"] = [0]\n",
    "    history[\"cost\"] = [f(x0)]\n",
    "    for i in range(max_iterations):\n",
    "        grad = df(x)\n",
    "        x_new = x - learning_rate * grad\n",
    "        history[\"x\"].append(x_new)\n",
    "        history[\"iterations\"].append(i+1)\n",
    "        history[\"cost\"].append(f(x_new))\n",
    "        if abs(x_new - x) < tolerance:\n",
    "            break\n",
    "\n",
    "        print(f\"Iteration {i}: (Initial) X = {x:.6f}\")\n",
    "        x = x_new\n",
    "\n",
    "    return x, i"
   ]
  },
  {
   "cell_type": "code",
   "execution_count": 6,
   "id": "f0eefb53",
   "metadata": {},
   "outputs": [],
   "source": [
    "def f(x):\n",
    "    return x**2 + 4*x + 4  # Example function\n",
    "def df(x):\n",
    "    return 2*x + 4  # Derivative of the function"
   ]
  },
  {
   "cell_type": "code",
   "execution_count": null,
   "id": "60955cd9",
   "metadata": {},
   "outputs": [
    {
     "name": "stdout",
     "output_type": "stream",
     "text": [
      "Iteration 0: (Initial) X = 0.000000\n",
      "Iteration 1: (Initial) X = -0.400000\n",
      "Iteration 2: (Initial) X = -0.720000\n",
      "Iteration 3: (Initial) X = -0.976000\n",
      "Iteration 4: (Initial) X = -1.180800\n",
      "Iteration 5: (Initial) X = -1.344640\n",
      "Iteration 6: (Initial) X = -1.475712\n",
      "Iteration 7: (Initial) X = -1.580570\n",
      "Iteration 8: (Initial) X = -1.664456\n",
      "Iteration 9: (Initial) X = -1.731565\n",
      "Iteration 10: (Initial) X = -1.785252\n",
      "Iteration 11: (Initial) X = -1.828201\n",
      "Iteration 12: (Initial) X = -1.862561\n",
      "Iteration 13: (Initial) X = -1.890049\n",
      "Iteration 14: (Initial) X = -1.912039\n",
      "Iteration 15: (Initial) X = -1.929631\n",
      "Iteration 16: (Initial) X = -1.943705\n",
      "Iteration 17: (Initial) X = -1.954964\n",
      "Iteration 18: (Initial) X = -1.963971\n",
      "Iteration 19: (Initial) X = -1.971177\n",
      "Iteration 20: (Initial) X = -1.976942\n",
      "Iteration 21: (Initial) X = -1.981553\n",
      "Iteration 22: (Initial) X = -1.985243\n",
      "Iteration 23: (Initial) X = -1.988194\n",
      "Iteration 24: (Initial) X = -1.990555\n",
      "Iteration 25: (Initial) X = -1.992444\n",
      "Iteration 26: (Initial) X = -1.993955\n",
      "Iteration 27: (Initial) X = -1.995164\n",
      "Iteration 28: (Initial) X = -1.996131\n",
      "Iteration 29: (Initial) X = -1.996905\n",
      "Iteration 30: (Initial) X = -1.997524\n",
      "Iteration 31: (Initial) X = -1.998019\n",
      "Iteration 32: (Initial) X = -1.998415\n",
      "Iteration 33: (Initial) X = -1.998732\n",
      "Iteration 34: (Initial) X = -1.998986\n",
      "Iteration 35: (Initial) X = -1.999189\n",
      "Iteration 36: (Initial) X = -1.999351\n",
      "Iteration 37: (Initial) X = -1.999481\n",
      "Iteration 38: (Initial) X = -1.999585\n",
      "Iteration 39: (Initial) X = -1.999668\n",
      "Iteration 40: (Initial) X = -1.999734\n",
      "Iteration 41: (Initial) X = -1.999787\n",
      "Iteration 42: (Initial) X = -1.999830\n",
      "Iteration 43: (Initial) X = -1.999864\n",
      "Iteration 44: (Initial) X = -1.999891\n",
      "Iteration 45: (Initial) X = -1.999913\n",
      "Iteration 46: (Initial) X = -1.999930\n",
      "Iteration 47: (Initial) X = -1.999944\n",
      "Iteration 48: (Initial) X = -1.999955\n",
      "Iteration 49: (Initial) X = -1.999964\n",
      "Iteration 50: (Initial) X = -1.999971\n",
      "Iteration 51: (Initial) X = -1.999977\n",
      "Iteration 52: (Initial) X = -1.999982\n",
      "Iteration 53: (Initial) X = -1.999985\n",
      "Iteration 54: (Initial) X = -1.999988\n",
      "Iteration 55: (Initial) X = -1.999991\n",
      "Iteration 56: (Initial) X = -1.999993\n",
      "Iteration 57: (Initial) X = -1.999994\n",
      "The minimum point is at Iteration 58: x = -1.9999952109514347\n"
     ]
    },
    {
     "data": {
      "image/png": "[encoded data removed]",
      "text/plain": [
       "<Figure size 1600x500 with 2 Axes>"
      ]
     },
     "metadata": {},
     "output_type": "display_data"
    }
   ],
   "source": [
    "x0 = 10000  # Initial guess\n",
    "minimum, iteration = gradient_descent(f, df, x0, learning_rate=0.1, max_iterations=2000)\n",
    "print(f\"The minimum point is at Iteration {iteration}: x = {minimum}\")\n",
    "\n",
    "\n",
    "fig, axes = plt.subplots(1, 2, figsize=(16, 5))\n",
    "\n",
    "# Plot: Iteration vs X\n",
    "axes[0].plot(history['iterations'], history['x'], color='teal', marker='o', linewidth=2)\n",
    "axes[0].set_title(\"Iteration vs X\", fontsize=16)\n",
    "axes[0].set_xlabel(\"Iteration\", fontsize=12)\n",
    "axes[0].set_ylabel(\"X value\", fontsize=12)\n",
    "axes[0].grid(True)\n",
    "\n",
    "# Plot: Iteration vs Cost\n",
    "axes[1].plot(history['iterations'], history['cost'], color='crimson', marker='s', linewidth=2)\n",
    "axes[1].set_title(\"Iteration vs Cost Function\", fontsize=16)\n",
    "axes[1].set_xlabel(\"Iteration\", fontsize=12)\n",
    "axes[1].set_ylabel(\"Cost (f(x))\", fontsize=12)\n",
    "axes[1].grid(True)\n",
    "\n",
    "plt.suptitle(\"Gradient Descent Convergence Plots\", fontsize=18, fontweight='bold')\n",
    "plt.tight_layout(rect=[0, 0, 1, 0.95])\n",
    "plt.show()\n"
   ]
  },
  {
   "cell_type": "code",
   "execution_count": 178,
   "id": "03d27c50",
   "metadata": {},
   "outputs": [
    {
     "data": {
      "application/vnd.plotly.v1+json": {
       "config": {
        "plotlyServerURL": "https://plot.ly"
       },
       "data": [
        {
         "mode": "lines+markers",
         "name": "X",
         "type": "scatter",
         "x": [
          0,
          1,
          2,
          3,
          4,
          5,
          6,
          7,
          8,
          9,
          10,
          11,
          12,
          13,
          14,
          15,
          16,
          17,
          18,
          19,
          20
         ],
         "xaxis": "x",
         "y": [
          0,
          -0.4,
          -0.7200000000000001,
          -0.976,
          -1.1808,
          -1.34464,
          -1.4757120000000001,
          -1.5805696,
          -1.66445568,
          -1.731564544,
          -1.7852516352,
          -1.8282013081600001,
          -1.862561046528,
          -1.8900488372224,
          -1.91203906977792,
          -1.9296312558223359,
          -1.9437050046578688,
          -1.954964003726295,
          -1.963971202981036,
          -1.9711769623848288,
          -1.976941569907863
         ],
         "yaxis": "y"
        },
        {
         "mode": "lines+markers",
         "name": "Cost",
         "type": "scatter",
         "x": [
          0,
          1,
          2,
          3,
          4,
          5,
          6,
          7,
          8,
          9,
          10,
          11,
          12,
          13,
          14,
          15,
          16,
          17,
          18,
          19,
          20
         ],
         "xaxis": "x2",
         "y": [
          4,
          2.56,
          1.6383999999999999,
          1.0485760000000002,
          0.6710886399999998,
          0.42949672959999985,
          0.27487790694399994,
          0.17592186044416014,
          0.11258999068426245,
          0.07205759403792777,
          0.046116860184273634,
          0.029514790517935374,
          0.018889465931478444,
          0.012089258196146258,
          0.007737125245533605,
          0.004951760157141383,
          0.0031691265005706626,
          0.0020282409603651352,
          0.0012980742146337931,
          0.0008307674973657697,
          0.0005316911983137551
         ],
         "yaxis": "y2"
        }
       ],
       "layout": {
        "annotations": [
         {
          "font": {
           "size": 16
          },
          "showarrow": false,
          "text": "Iteration vs X",
          "x": 0.225,
          "xanchor": "center",
          "xref": "paper",
          "y": 1,
          "yanchor": "bottom",
          "yref": "paper"
         },
         {
          "font": {
           "size": 16
          },
          "showarrow": false,
          "text": "Iteration vs Cost",
          "x": 0.775,
          "xanchor": "center",
          "xref": "paper",
          "y": 1,
          "yanchor": "bottom",
          "yref": "paper"
         }
        ],
        "height": 600,
        "template": {
         "data": {
          "bar": [
           {
            "error_x": {
             "color": "#2a3f5f"
            },
            "error_y": {
             "color": "#2a3f5f"
            },
            "marker": {
             "line": {
              "color": "#E5ECF6",
              "width": 0.5
             },
             "pattern": {
              "fillmode": "overlay",
              "size": 10,
              "solidity": 0.2
             }
            },
            "type": "bar"
           }
          ],
          "barpolar": [
           {
            "marker": {
             "line": {
              "color": "#E5ECF6",
              "width": 0.5
             },
             "pattern": {
              "fillmode": "overlay",
              "size": 10,
              "solidity": 0.2
             }
            },
            "type": "barpolar"
           }
          ],
          "carpet": [
           {
            "aaxis": {
             "endlinecolor": "#2a3f5f",
             "gridcolor": "white",
             "linecolor": "white",
             "minorgridcolor": "white",
             "startlinecolor": "#2a3f5f"
            },
            "baxis": {
             "endlinecolor": "#2a3f5f",
             "gridcolor": "white",
             "linecolor": "white",
             "minorgridcolor": "white",
             "startlinecolor": "#2a3f5f"
            },
            "type": "carpet"
           }
          ],
          "choropleth": [
           {
            "colorbar": {
             "outlinewidth": 0,
             "ticks": ""
            },
            "type": "choropleth"
           }
          ],
          "contour": [
           {
            "colorbar": {
             "outlinewidth": 0,
             "ticks": ""
            },
            "colorscale": [
             [
              0,
              "#0d0887"
             ],
             [
              0.1111111111111111,
              "#46039f"
             ],
             [
              0.2222222222222222,
              "#7201a8"
             ],
             [
              0.3333333333333333,
              "#9c179e"
             ],
             [
              0.4444444444444444,
              "#bd3786"
             ],
             [
              0.5555555555555556,
              "#d8576b"
             ],
             [
              0.6666666666666666,
              "#ed7953"
             ],
             [
              0.7777777777777778,
              "#fb9f3a"
             ],
             [
              0.8888888888888888,
              "#fdca26"
             ],
             [
              1,
              "#f0f921"
             ]
            ],
            "type": "contour"
           }
          ],
          "contourcarpet": [
           {
            "colorbar": {
             "outlinewidth": 0,
             "ticks": ""
            },
            "type": "contourcarpet"
           }
          ],
          "heatmap": [
           {
            "colorbar": {
             "outlinewidth": 0,
             "ticks": ""
            },
            "colorscale": [
             [
              0,
              "#0d0887"
             ],
             [
              0.1111111111111111,
              "#46039f"
             ],
             [
              0.2222222222222222,
              "#7201a8"
             ],
             [
              0.3333333333333333,
              "#9c179e"
             ],
             [
              0.4444444444444444,
              "#bd3786"
             ],
             [
              0.5555555555555556,
              "#d8576b"
             ],
             [
              0.6666666666666666,
              "#ed7953"
             ],
             [
              0.7777777777777778,
              "#fb9f3a"
             ],
             [
              0.8888888888888888,
              "#fdca26"
             ],
             [
              1,
              "#f0f921"
             ]
            ],
            "type": "heatmap"
           }
          ],
          "histogram": [
           {
            "marker": {
             "pattern": {
              "fillmode": "overlay",
              "size": 10,
              "solidity": 0.2
             }
            },
            "type": "histogram"
           }
          ],
          "histogram2d": [
           {
            "colorbar": {
             "outlinewidth": 0,
             "ticks": ""
            },
            "colorscale": [
             [
              0,
              "#0d0887"
             ],
             [
              0.1111111111111111,
              "#46039f"
             ],
             [
              0.2222222222222222,
              "#7201a8"
             ],
             [
              0.3333333333333333,
              "#9c179e"
             ],
             [
              0.4444444444444444,
              "#bd3786"
             ],
             [
              0.5555555555555556,
              "#d8576b"
             ],
             [
              0.6666666666666666,
              "#ed7953"
             ],
             [
              0.7777777777777778,
              "#fb9f3a"
             ],
             [
              0.8888888888888888,
              "#fdca26"
             ],
             [
              1,
              "#f0f921"
             ]
            ],
            "type": "histogram2d"
           }
          ],
          "histogram2dcontour": [
           {
            "colorbar": {
             "outlinewidth": 0,
             "ticks": ""
            },
            "colorscale": [
             [
              0,
              "#0d0887"
             ],
             [
              0.1111111111111111,
              "#46039f"
             ],
             [
              0.2222222222222222,
              "#7201a8"
             ],
             [
              0.3333333333333333,
              "#9c179e"
             ],
             [
              0.4444444444444444,
              "#bd3786"
             ],
             [
              0.5555555555555556,
              "#d8576b"
             ],
             [
              0.6666666666666666,
              "#ed7953"
             ],
             [
              0.7777777777777778,
              "#fb9f3a"
             ],
             [
              0.8888888888888888,
              "#fdca26"
             ],
             [
              1,
              "#f0f921"
             ]
            ],
            "type": "histogram2dcontour"
           }
          ],
          "mesh3d": [
           {
            "colorbar": {
             "outlinewidth": 0,
             "ticks": ""
            },
            "type": "mesh3d"
           }
          ],
          "parcoords": [
           {
            "line": {
             "colorbar": {
              "outlinewidth": 0,
              "ticks": ""
             }
            },
            "type": "parcoords"
           }
          ],
          "pie": [
           {
            "automargin": true,
            "type": "pie"
           }
          ],
          "scatter": [
           {
            "fillpattern": {
             "fillmode": "overlay",
             "size": 10,
             "solidity": 0.2
            },
            "type": "scatter"
           }
          ],
          "scatter3d": [
           {
            "line": {
             "colorbar": {
              "outlinewidth": 0,
              "ticks": ""
             }
            },
            "marker": {
             "colorbar": {
              "outlinewidth": 0,
              "ticks": ""
             }
            },
            "type": "scatter3d"
           }
          ],
          "scattercarpet": [
           {
            "marker": {
             "colorbar": {
              "outlinewidth": 0,
              "ticks": ""
             }
            },
            "type": "scattercarpet"
           }
          ],
          "scattergeo": [
           {
            "marker": {
             "colorbar": {
              "outlinewidth": 0,
              "ticks": ""
             }
            },
            "type": "scattergeo"
           }
          ],
          "scattergl": [
           {
            "marker": {
             "colorbar": {
              "outlinewidth": 0,
              "ticks": ""
             }
            },
            "type": "scattergl"
           }
          ],
          "scattermap": [
           {
            "marker": {
             "colorbar": {
              "outlinewidth": 0,
              "ticks": ""
             }
            },
            "type": "scattermap"
           }
          ],
          "scattermapbox": [
           {
            "marker": {
             "colorbar": {
              "outlinewidth": 0,
              "ticks": ""
             }
            },
            "type": "scattermapbox"
           }
          ],
          "scatterpolar": [
           {
            "marker": {
             "colorbar": {
              "outlinewidth": 0,
              "ticks": ""
             }
            },
            "type": "scatterpolar"
           }
          ],
          "scatterpolargl": [
           {
            "marker": {
             "colorbar": {
              "outlinewidth": 0,
              "ticks": ""
             }
            },
            "type": "scatterpolargl"
           }
          ],
          "scatterternary": [
           {
            "marker": {
             "colorbar": {
              "outlinewidth": 0,
              "ticks": ""
             }
            },
            "type": "scatterternary"
           }
          ],
          "surface": [
           {
            "colorbar": {
             "outlinewidth": 0,
             "ticks": ""
            },
            "colorscale": [
             [
              0,
              "#0d0887"
             ],
             [
              0.1111111111111111,
              "#46039f"
             ],
             [
              0.2222222222222222,
              "#7201a8"
             ],
             [
              0.3333333333333333,
              "#9c179e"
             ],
             [
              0.4444444444444444,
              "#bd3786"
             ],
             [
              0.5555555555555556,
              "#d8576b"
             ],
             [
              0.6666666666666666,
              "#ed7953"
             ],
             [
              0.7777777777777778,
              "#fb9f3a"
             ],
             [
              0.8888888888888888,
              "#fdca26"
             ],
             [
              1,
              "#f0f921"
             ]
            ],
            "type": "surface"
           }
          ],
          "table": [
           {
            "cells": {
             "fill": {
              "color": "#EBF0F8"
             },
             "line": {
              "color": "white"
             }
            },
            "header": {
             "fill": {
              "color": "#C8D4E3"
             },
             "line": {
              "color": "white"
             }
            },
            "type": "table"
           }
          ]
         },
         "layout": {
          "annotationdefaults": {
           "arrowcolor": "#2a3f5f",
           "arrowhead": 0,
           "arrowwidth": 1
          },
          "autotypenumbers": "strict",
          "coloraxis": {
           "colorbar": {
            "outlinewidth": 0,
            "ticks": ""
           }
          },
          "colorscale": {
           "diverging": [
            [
             0,
             "#8e0152"
            ],
            [
             0.1,
             "#c51b7d"
            ],
            [
             0.2,
             "#de77ae"
            ],
            [
             0.3,
             "#f1b6da"
            ],
            [
             0.4,
             "#fde0ef"
            ],
            [
             0.5,
             "#f7f7f7"
            ],
            [
             0.6,
             "#e6f5d0"
            ],
            [
             0.7,
             "#b8e186"
            ],
            [
             0.8,
             "#7fbc41"
            ],
            [
             0.9,
             "#4d9221"
            ],
            [
             1,
             "#276419"
            ]
           ],
           "sequential": [
            [
             0,
             "#0d0887"
            ],
            [
             0.1111111111111111,
             "#46039f"
            ],
            [
             0.2222222222222222,
             "#7201a8"
            ],
            [
             0.3333333333333333,
             "#9c179e"
            ],
            [
             0.4444444444444444,
             "#bd3786"
            ],
            [
             0.5555555555555556,
             "#d8576b"
            ],
            [
             0.6666666666666666,
             "#ed7953"
            ],
            [
             0.7777777777777778,
             "#fb9f3a"
            ],
            [
             0.8888888888888888,
             "#fdca26"
            ],
            [
             1,
             "#f0f921"
            ]
           ],
           "sequentialminus": [
            [
             0,
             "#0d0887"
            ],
            [
             0.1111111111111111,
             "#46039f"
            ],
            [
             0.2222222222222222,
             "#7201a8"
            ],
            [
             0.3333333333333333,
             "#9c179e"
            ],
            [
             0.4444444444444444,
             "#bd3786"
            ],
            [
             0.5555555555555556,
             "#d8576b"
            ],
            [
             0.6666666666666666,
             "#ed7953"
            ],
            [
             0.7777777777777778,
             "#fb9f3a"
            ],
            [
             0.8888888888888888,
             "#fdca26"
            ],
            [
             1,
             "#f0f921"
            ]
           ]
          },
          "colorway": [
           "#636efa",
           "#EF553B",
           "#00cc96",
           "#ab63fa",
           "#FFA15A",
           "#19d3f3",
           "#FF6692",
           "#B6E880",
           "#FF97FF",
           "#FECB52"
          ],
          "font": {
           "color": "#2a3f5f"
          },
          "geo": {
           "bgcolor": "white",
           "lakecolor": "white",
           "landcolor": "#E5ECF6",
           "showlakes": true,
           "showland": true,
           "subunitcolor": "white"
          },
          "hoverlabel": {
           "align": "left"
          },
          "hovermode": "closest",
          "mapbox": {
           "style": "light"
          },
          "paper_bgcolor": "white",
          "plot_bgcolor": "#E5ECF6",
          "polar": {
           "angularaxis": {
            "gridcolor": "white",
            "linecolor": "white",
            "ticks": ""
           },
           "bgcolor": "#E5ECF6",
           "radialaxis": {
            "gridcolor": "white",
            "linecolor": "white",
            "ticks": ""
           }
          },
          "scene": {
           "xaxis": {
            "backgroundcolor": "#E5ECF6",
            "gridcolor": "white",
            "gridwidth": 2,
            "linecolor": "white",
            "showbackground": true,
            "ticks": "",
            "zerolinecolor": "white"
           },
           "yaxis": {
            "backgroundcolor": "#E5ECF6",
            "gridcolor": "white",
            "gridwidth": 2,
            "linecolor": "white",
            "showbackground": true,
            "ticks": "",
            "zerolinecolor": "white"
           },
           "zaxis": {
            "backgroundcolor": "#E5ECF6",
            "gridcolor": "white",
            "gridwidth": 2,
            "linecolor": "white",
            "showbackground": true,
            "ticks": "",
            "zerolinecolor": "white"
           }
          },
          "shapedefaults": {
           "line": {
            "color": "#2a3f5f"
           }
          },
          "ternary": {
           "aaxis": {
            "gridcolor": "white",
            "linecolor": "white",
            "ticks": ""
           },
           "baxis": {
            "gridcolor": "white",
            "linecolor": "white",
            "ticks": ""
           },
           "bgcolor": "#E5ECF6",
           "caxis": {
            "gridcolor": "white",
            "linecolor": "white",
            "ticks": ""
           }
          },
          "title": {
           "x": 0.05
          },
          "xaxis": {
           "automargin": true,
           "gridcolor": "white",
           "linecolor": "white",
           "ticks": "",
           "title": {
            "standoff": 15
           },
           "zerolinecolor": "white",
           "zerolinewidth": 2
          },
          "yaxis": {
           "automargin": true,
           "gridcolor": "white",
           "linecolor": "white",
           "ticks": "",
           "title": {
            "standoff": 15
           },
           "zerolinecolor": "white",
           "zerolinewidth": 2
          }
         }
        },
        "title": {
         "text": "Gradient Descent Progress"
        },
        "width": 1400,
        "xaxis": {
         "anchor": "y",
         "domain": [
          0,
          0.45
         ]
        },
        "xaxis2": {
         "anchor": "y2",
         "domain": [
          0.55,
          1
         ]
        },
        "yaxis": {
         "anchor": "x",
         "domain": [
          0,
          1
         ]
        },
        "yaxis2": {
         "anchor": "x2",
         "domain": [
          0,
          1
         ]
        }
       }
      }
     },
     "metadata": {},
     "output_type": "display_data"
    }
   ],
   "source": [
    "from plotly.subplots import make_subplots\n",
    "import plotly.graph_objects as go\n",
    "\n",
    "fig = make_subplots(\n",
    "    rows=1, cols=2, subplot_titles=(\"Iteration vs X\", \"Iteration vs Cost\")\n",
    ")\n",
    "\n",
    "fig.add_trace(\n",
    "    go.Scatter(x=history[\"iterations\"], y=history[\"x\"], mode=\"lines+markers\", name=\"X\"),\n",
    "    row=1,\n",
    "    col=1,\n",
    ")\n",
    "\n",
    "fig.add_trace(\n",
    "    go.Scatter(\n",
    "        x=history[\"iterations\"], y=history[\"cost\"], mode=\"lines+markers\", name=\"Cost\"\n",
    "    ),\n",
    "    row=1,\n",
    "    col=2,\n",
    ")\n",
    "\n",
    "fig.update_layout(title_text=\"Gradient Descent Progress\", width=1400, height=600)\n",
    "fig.show()\n"
   ]
  },
  {
   "cell_type": "markdown",
   "id": "c6d36460",
   "metadata": {},
   "source": [
    "## Key Takeaways\n",
    "\n",
    "* Gradient of the cost function w.r.t each of the parameters can be derived easily using calculus.\n",
    "\n",
    "* The parameters are updated iteratively using their corresponding gradients.\n",
    "\n",
    "* When the dataset is large with a large number of features, Gradient descent is preferred instead of OLS of the function.\n"
   ]
  },
  {
   "cell_type": "markdown",
   "id": "ef2a612d",
   "metadata": {},
   "source": [
    "&copy; 2025, Aayush Raj Regmi"
   ]
  }
 ],
 "metadata": {
  "kernelspec": {
   "display_name": "otg-fraud",
   "language": "python",
   "name": "python3"
  },
  "language_info": {
   "codemirror_mode": {
    "name": "ipython",
    "version": 3
   },
   "file_extension": ".py",
   "mimetype": "text/x-python",
   "name": "python",
   "nbconvert_exporter": "python",
   "pygments_lexer": "ipython3",
   "version": "3.11.12"
  }
 },
 "nbformat": 4,
 "nbformat_minor": 5
}
